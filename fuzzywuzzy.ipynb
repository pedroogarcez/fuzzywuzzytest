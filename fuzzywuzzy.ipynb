{
 "cells": [
  {
   "cell_type": "markdown",
   "id": "13496716",
   "metadata": {},
   "source": [
    "# 1. Introdução"
   ]
  },
  {
   "cell_type": "markdown",
   "id": "3a415494",
   "metadata": {},
   "source": [
    "<div class = 'text-justify'>\n",
    "Ao longo de processos de tratamento de dados, é comum nos depararmos com preenchimentos indevidos de colunas em arquivos Excel em meio a grande quantidade de linhas para análise. Como consequência, os resultados gerados podem ser inconsistentes com a realidade presente no DataFrame devido a contagem diferente de conteúdos referentes ao mesmo texto. Para solucionar este problema, iremos utilizar a distância de Levenshtein através da biblioteca <b>FuzzyWuzzy </b> para quantificar a diferença de grafia entre duas strings. Assim, iremos identificar valores que estão presentes em diferentes campos mesmo que escrito de maneira diferentes e substituí-lo por um valor igual sem erro de ortografia, possibilitando obter precisão em métodos como value_counts. </div>"
   ]
  },
  {
   "cell_type": "markdown",
   "id": "1af272c2",
   "metadata": {},
   "source": [
    "# 2. Bibliotecas utilizadas"
   ]
  },
  {
   "cell_type": "code",
   "execution_count": 7,
   "id": "91fd5d53",
   "metadata": {},
   "outputs": [],
   "source": [
    "from fuzzywuzzy import *\n",
    "from fuzzywuzzy import process\n",
    "import pandas as pd"
   ]
  },
  {
   "cell_type": "markdown",
   "id": "3fd9dffe",
   "metadata": {},
   "source": [
    "# 3. Entendendo como tudo funciona"
   ]
  },
  {
   "cell_type": "markdown",
   "id": "f482c0f0",
   "metadata": {},
   "source": [
    "Primeiramente, vamos substituir os erros de grafia presente em uma lista por uma string de referência salva em uma variável. Para isso, vamos criar uma função responsável por tratar os dados e retornar uma lista corrigida:"
   ]
  },
  {
   "cell_type": "code",
   "execution_count": 21,
   "id": "bc83d630",
   "metadata": {},
   "outputs": [
    {
     "name": "stdout",
     "output_type": "stream",
     "text": [
      "['APPLE', 'APPLE', 'AMAZON', 'APPLESA', 'APLESA', 'MICROSOF', 'MICROSOFT']\n"
     ]
    }
   ],
   "source": [
    "str_referencia = \"APPLE\"\n",
    "empresas = [\"Apple\",\"apple.\",\"Aple\",\"APPLE\",\" Apple\"]\n",
    "primeiro_tratamento = []\n",
    "\n",
    "# Criando uma função que faz um prévio tratamento\n",
    "lista = [\"Apple\",\"apple.\",\"Amazon\",\"APPLE S/A\",\" Aple S.A\",'Microsof','Microsoft']\n",
    "for i in lista:\n",
    "    primeiro_tratamento.append((i.strip().upper().replace('.','').replace('/','').replace(\" \", \"\")))\n",
    "print(primeiro_tratamento)"
   ]
  },
  {
   "cell_type": "markdown",
   "id": "05cc4d8f",
   "metadata": {},
   "source": [
    "<div class = 'text-justify'>\n",
    "Dessa forma, criamos uma lista previamente tratada que será utilizada para compararmos com nossa referência. Vamos aplicar esse método utilizando a função <i><b>process.extractOne</b></i>, que possui três argumentos: <b>String de referência, Lista de strings e a Medida de similaridade de Levenshtein.</b></div>\n"
   ]
  },
  {
   "cell_type": "code",
   "execution_count": 22,
   "id": "54caa5ac",
   "metadata": {},
   "outputs": [
    {
     "name": "stdout",
     "output_type": "stream",
     "text": [
      "('APPLE', 100)\n"
     ]
    }
   ],
   "source": [
    "k = process.extractOne(str_referencia,primeiro_tratamento)\n",
    "print(k)"
   ]
  },
  {
   "cell_type": "markdown",
   "id": "3df46aba",
   "metadata": {},
   "source": [
    "<div class = 'text-justify'>Como resultado, temos uma tupla a qual o primeiro resultado é a melhor correspondência da lista comparada a string de refêrencia e o segundo sua pontuação. No caso, temos um elemento da nossa lista de empresas que possuí a mesma grafia. </div>\n",
    "obs: A pontuação varia de 0 a 100, onde 0 indica nenhuma correspondência e 100 indica correspondência exata."
   ]
  },
  {
   "cell_type": "markdown",
   "id": "1ac96516",
   "metadata": {},
   "source": [
    "# 4. Substituindo strings de acordo com sua pontuação"
   ]
  },
  {
   "cell_type": "code",
   "execution_count": 28,
   "id": "cd2fab8d",
   "metadata": {},
   "outputs": [
    {
     "name": "stdout",
     "output_type": "stream",
     "text": [
      "['APPLE', 'APPLE', 'AMAZON', 'APPLE', 'APPLE', 'MICROSOF', 'MICROSOFT']\n"
     ]
    }
   ],
   "source": [
    "empresa_tratado = []\n",
    "for i in primeiro_tratamento:\n",
    "    k = process.extractOne(str_referencia,[i])\n",
    "    if k[1] > 70:\n",
    "        empresa_tratado.append(str_referencia)\n",
    "    else:\n",
    "        empresa_tratado.append(k[0])\n",
    "print(empresa_tratado)"
   ]
  },
  {
   "cell_type": "markdown",
   "id": "27c7e26c",
   "metadata": {},
   "source": [
    "#### No exemplo acima, a distância mínima de Levenshtein aceita é de 70. Ou seja, se a similaridade for superior, a string será adicionada de maneira correta na nova lista, caso contrário, será mantida original. "
   ]
  },
  {
   "cell_type": "markdown",
   "id": "02211222",
   "metadata": {},
   "source": [
    "# 5. Aplicando em um DataFrame"
   ]
  },
  {
   "cell_type": "code",
   "execution_count": null,
   "id": "46183d7c",
   "metadata": {},
   "outputs": [],
   "source": []
  }
 ],
 "metadata": {
  "kernelspec": {
   "display_name": "Python 3 (ipykernel)",
   "language": "python",
   "name": "python3"
  },
  "language_info": {
   "codemirror_mode": {
    "name": "ipython",
    "version": 3
   },
   "file_extension": ".py",
   "mimetype": "text/x-python",
   "name": "python",
   "nbconvert_exporter": "python",
   "pygments_lexer": "ipython3",
   "version": "3.9.13"
  }
 },
 "nbformat": 4,
 "nbformat_minor": 5
}
